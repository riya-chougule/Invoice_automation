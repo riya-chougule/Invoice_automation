{
 "cells": [
  {
   "cell_type": "markdown",
   "metadata": {},
   "source": [
    "### Description : This notebook contains 2 methods with which we can load multiple images into an array using various python libraries"
   ]
  },
  {
   "cell_type": "markdown",
   "metadata": {},
   "source": [
    "### Author name : Riya Chougule"
   ]
  },
  {
   "cell_type": "markdown",
   "metadata": {},
   "source": [
    "### Date : 23/5/2020"
   ]
  },
  {
   "cell_type": "markdown",
   "metadata": {},
   "source": [
    "### 1. Loading image using PIL "
   ]
  },
  {
   "cell_type": "code",
   "execution_count": 73,
   "metadata": {},
   "outputs": [],
   "source": [
    "from PIL import Image"
   ]
  },
  {
   "cell_type": "code",
   "execution_count": 74,
   "metadata": {},
   "outputs": [],
   "source": [
    "import numpy as np"
   ]
  },
  {
   "cell_type": "code",
   "execution_count": 75,
   "metadata": {},
   "outputs": [],
   "source": [
    "img1=Image.open('inv1.jpg')\n",
    "img2=Image.open('inv2.jpg')\n",
    "img3=Image.open('inv3.jpg')\n",
    "img4=Image.open('inv4.jpg')"
   ]
  },
  {
   "cell_type": "code",
   "execution_count": 76,
   "metadata": {},
   "outputs": [],
   "source": [
    "img1_array=np.array(img1)\n",
    "img2_array=np.array(img2)\n",
    "img3_array=np.array(img3)\n",
    "img4_array=np.array(img4)"
   ]
  },
  {
   "cell_type": "code",
   "execution_count": 78,
   "metadata": {},
   "outputs": [
    {
     "data": {
      "text/plain": [
       "(747, 799, 3)"
      ]
     },
     "execution_count": 78,
     "metadata": {},
     "output_type": "execute_result"
    }
   ],
   "source": [
    "img1_array.shape"
   ]
  },
  {
   "cell_type": "code",
   "execution_count": 82,
   "metadata": {},
   "outputs": [
    {
     "data": {
      "text/plain": [
       "(747, 799, 3)"
      ]
     },
     "execution_count": 82,
     "metadata": {},
     "output_type": "execute_result"
    }
   ],
   "source": [
    "img2_array.shape"
   ]
  },
  {
   "cell_type": "code",
   "execution_count": 83,
   "metadata": {},
   "outputs": [
    {
     "data": {
      "text/plain": [
       "(648, 910, 3)"
      ]
     },
     "execution_count": 83,
     "metadata": {},
     "output_type": "execute_result"
    }
   ],
   "source": [
    "img3_array.shape"
   ]
  },
  {
   "cell_type": "code",
   "execution_count": 84,
   "metadata": {},
   "outputs": [
    {
     "data": {
      "text/plain": [
       "(678, 957, 3)"
      ]
     },
     "execution_count": 84,
     "metadata": {},
     "output_type": "execute_result"
    }
   ],
   "source": [
    "img4_array.shape"
   ]
  },
  {
   "cell_type": "code",
   "execution_count": 67,
   "metadata": {},
   "outputs": [
    {
     "data": {
      "text/plain": [
       "array([[[161, 157, 156],\n",
       "        [161, 157, 156],\n",
       "        [161, 157, 156],\n",
       "        ...,\n",
       "        [ 80,  62,  50],\n",
       "        [ 86,  68,  56],\n",
       "        [ 80,  62,  50]],\n",
       "\n",
       "       [[162, 158, 157],\n",
       "        [162, 158, 157],\n",
       "        [162, 158, 157],\n",
       "        ...,\n",
       "        [ 80,  62,  50],\n",
       "        [ 85,  67,  55],\n",
       "        [ 80,  62,  50]],\n",
       "\n",
       "       [[164, 160, 159],\n",
       "        [164, 160, 159],\n",
       "        [163, 159, 158],\n",
       "        ...,\n",
       "        [ 80,  62,  50],\n",
       "        [ 86,  68,  56],\n",
       "        [ 80,  62,  50]],\n",
       "\n",
       "       ...,\n",
       "\n",
       "       [[134, 130, 129],\n",
       "        [142, 138, 137],\n",
       "        [154, 150, 149],\n",
       "        ...,\n",
       "        [112,  50,  51],\n",
       "        [105,  43,  44],\n",
       "        [101,  39,  40]],\n",
       "\n",
       "       [[157, 153, 152],\n",
       "        [141, 137, 136],\n",
       "        [140, 136, 135],\n",
       "        ...,\n",
       "        [109,  51,  50],\n",
       "        [100,  42,  41],\n",
       "        [ 97,  39,  38]],\n",
       "\n",
       "       [[152, 148, 147],\n",
       "        [140, 136, 135],\n",
       "        [134, 130, 129],\n",
       "        ...,\n",
       "        [108,  54,  52],\n",
       "        [100,  46,  44],\n",
       "        [ 98,  44,  42]]], dtype=uint8)"
      ]
     },
     "execution_count": 67,
     "metadata": {},
     "output_type": "execute_result"
    }
   ],
   "source": [
    "img1_array"
   ]
  },
  {
   "cell_type": "code",
   "execution_count": 68,
   "metadata": {},
   "outputs": [
    {
     "data": {
      "text/plain": [
       "array([[[107, 105,  92],\n",
       "        [106, 104,  91],\n",
       "        [104, 102,  90],\n",
       "        ...,\n",
       "        [ 88,  84,  81],\n",
       "        [ 83,  79,  76],\n",
       "        [ 83,  79,  76]],\n",
       "\n",
       "       [[106, 104,  91],\n",
       "        [105, 103,  90],\n",
       "        [104, 102,  90],\n",
       "        ...,\n",
       "        [ 83,  79,  76],\n",
       "        [ 80,  76,  73],\n",
       "        [ 83,  79,  76]],\n",
       "\n",
       "       [[105, 103,  90],\n",
       "        [104, 102,  89],\n",
       "        [104, 102,  90],\n",
       "        ...,\n",
       "        [ 81,  77,  74],\n",
       "        [ 79,  75,  72],\n",
       "        [ 84,  80,  77]],\n",
       "\n",
       "       ...,\n",
       "\n",
       "       [[158, 154, 153],\n",
       "        [157, 153, 152],\n",
       "        [157, 153, 152],\n",
       "        ...,\n",
       "        [ 21,  21,  19],\n",
       "        [ 21,  21,  19],\n",
       "        [ 21,  21,  19]],\n",
       "\n",
       "       [[158, 154, 153],\n",
       "        [157, 153, 152],\n",
       "        [157, 153, 152],\n",
       "        ...,\n",
       "        [ 21,  21,  19],\n",
       "        [ 21,  21,  19],\n",
       "        [ 21,  21,  19]],\n",
       "\n",
       "       [[158, 154, 153],\n",
       "        [157, 153, 152],\n",
       "        [157, 153, 152],\n",
       "        ...,\n",
       "        [ 21,  21,  19],\n",
       "        [ 21,  21,  19],\n",
       "        [ 21,  21,  19]]], dtype=uint8)"
      ]
     },
     "execution_count": 68,
     "metadata": {},
     "output_type": "execute_result"
    }
   ],
   "source": [
    "img2_array"
   ]
  },
  {
   "cell_type": "code",
   "execution_count": 79,
   "metadata": {},
   "outputs": [
    {
     "data": {
      "text/plain": [
       "array([[[ 67,  56,  54],\n",
       "        [ 52,  41,  39],\n",
       "        [ 76,  65,  63],\n",
       "        ...,\n",
       "        [ 62,  39,  33],\n",
       "        [ 59,  36,  30],\n",
       "        [ 55,  32,  26]],\n",
       "\n",
       "       [[ 60,  49,  47],\n",
       "        [ 61,  50,  48],\n",
       "        [ 85,  74,  72],\n",
       "        ...,\n",
       "        [ 64,  41,  35],\n",
       "        [ 60,  37,  31],\n",
       "        [ 57,  34,  28]],\n",
       "\n",
       "       [[ 54,  43,  41],\n",
       "        [ 71,  60,  58],\n",
       "        [ 92,  81,  79],\n",
       "        ...,\n",
       "        [ 66,  43,  37],\n",
       "        [ 63,  40,  34],\n",
       "        [ 59,  36,  30]],\n",
       "\n",
       "       ...,\n",
       "\n",
       "       [[167, 163, 160],\n",
       "        [151, 147, 144],\n",
       "        [ 82,  78,  75],\n",
       "        ...,\n",
       "        [ 96,  92,  89],\n",
       "        [ 86,  82,  79],\n",
       "        [ 93,  89,  86]],\n",
       "\n",
       "       [[167, 163, 160],\n",
       "        [150, 146, 143],\n",
       "        [ 83,  79,  76],\n",
       "        ...,\n",
       "        [101,  97,  94],\n",
       "        [ 89,  85,  82],\n",
       "        [ 90,  86,  83]],\n",
       "\n",
       "       [[167, 163, 160],\n",
       "        [150, 146, 143],\n",
       "        [ 83,  79,  76],\n",
       "        ...,\n",
       "        [109, 105, 102],\n",
       "        [ 95,  91,  88],\n",
       "        [ 88,  84,  81]]], dtype=uint8)"
      ]
     },
     "execution_count": 79,
     "metadata": {},
     "output_type": "execute_result"
    }
   ],
   "source": [
    "img3_array"
   ]
  },
  {
   "cell_type": "code",
   "execution_count": 80,
   "metadata": {},
   "outputs": [
    {
     "data": {
      "text/plain": [
       "array([[[108,  98,  96],\n",
       "        [108,  98,  96],\n",
       "        [108,  98,  96],\n",
       "        ...,\n",
       "        [ 12,  14,  13],\n",
       "        [ 13,  15,  14],\n",
       "        [ 14,  16,  15]],\n",
       "\n",
       "       [[109,  99,  97],\n",
       "        [108,  98,  96],\n",
       "        [108,  98,  96],\n",
       "        ...,\n",
       "        [ 13,  15,  14],\n",
       "        [ 16,  18,  17],\n",
       "        [ 17,  19,  18]],\n",
       "\n",
       "       [[109,  99,  97],\n",
       "        [108,  98,  96],\n",
       "        [107,  97,  95],\n",
       "        ...,\n",
       "        [ 16,  18,  17],\n",
       "        [ 20,  22,  21],\n",
       "        [ 21,  23,  22]],\n",
       "\n",
       "       ...,\n",
       "\n",
       "       [[150, 144, 144],\n",
       "        [152, 146, 146],\n",
       "        [153, 147, 147],\n",
       "        ...,\n",
       "        [118, 104, 117],\n",
       "        [118, 104, 117],\n",
       "        [118, 104, 117]],\n",
       "\n",
       "       [[148, 142, 142],\n",
       "        [150, 144, 144],\n",
       "        [151, 145, 145],\n",
       "        ...,\n",
       "        [118, 104, 117],\n",
       "        [118, 104, 117],\n",
       "        [118, 104, 117]],\n",
       "\n",
       "       [[147, 141, 141],\n",
       "        [148, 142, 142],\n",
       "        [150, 144, 144],\n",
       "        ...,\n",
       "        [118, 104, 117],\n",
       "        [118, 104, 117],\n",
       "        [119, 105, 118]]], dtype=uint8)"
      ]
     },
     "execution_count": 80,
     "metadata": {},
     "output_type": "execute_result"
    }
   ],
   "source": [
    "img4_array"
   ]
  },
  {
   "cell_type": "markdown",
   "metadata": {},
   "source": [
    "### 2. Loading image using Opencv"
   ]
  },
  {
   "cell_type": "code",
   "execution_count": 91,
   "metadata": {},
   "outputs": [],
   "source": [
    "import cv2"
   ]
  },
  {
   "cell_type": "code",
   "execution_count": 92,
   "metadata": {},
   "outputs": [],
   "source": [
    "img1=cv2.imread(\"inv1.jpg\")"
   ]
  },
  {
   "cell_type": "code",
   "execution_count": 93,
   "metadata": {},
   "outputs": [
    {
     "data": {
      "text/plain": [
       "array([[[156, 157, 161],\n",
       "        [156, 157, 161],\n",
       "        [156, 157, 161],\n",
       "        ...,\n",
       "        [ 50,  62,  80],\n",
       "        [ 56,  68,  86],\n",
       "        [ 50,  62,  80]],\n",
       "\n",
       "       [[157, 158, 162],\n",
       "        [157, 158, 162],\n",
       "        [157, 158, 162],\n",
       "        ...,\n",
       "        [ 50,  62,  80],\n",
       "        [ 55,  67,  85],\n",
       "        [ 50,  62,  80]],\n",
       "\n",
       "       [[159, 160, 164],\n",
       "        [159, 160, 164],\n",
       "        [158, 159, 163],\n",
       "        ...,\n",
       "        [ 50,  62,  80],\n",
       "        [ 56,  68,  86],\n",
       "        [ 50,  62,  80]],\n",
       "\n",
       "       ...,\n",
       "\n",
       "       [[129, 130, 134],\n",
       "        [137, 138, 142],\n",
       "        [149, 150, 154],\n",
       "        ...,\n",
       "        [ 51,  51, 111],\n",
       "        [ 44,  44, 104],\n",
       "        [ 40,  40, 100]],\n",
       "\n",
       "       [[152, 153, 157],\n",
       "        [136, 137, 141],\n",
       "        [135, 136, 140],\n",
       "        ...,\n",
       "        [ 50,  51, 109],\n",
       "        [ 41,  42, 100],\n",
       "        [ 38,  39,  97]],\n",
       "\n",
       "       [[147, 148, 152],\n",
       "        [135, 136, 140],\n",
       "        [129, 130, 134],\n",
       "        ...,\n",
       "        [ 52,  53, 109],\n",
       "        [ 44,  45, 101],\n",
       "        [ 42,  43,  99]]], dtype=uint8)"
      ]
     },
     "execution_count": 93,
     "metadata": {},
     "output_type": "execute_result"
    }
   ],
   "source": [
    "img1"
   ]
  },
  {
   "cell_type": "code",
   "execution_count": 94,
   "metadata": {},
   "outputs": [],
   "source": [
    "img2=cv2.imread(\"inv2.jpg\")"
   ]
  },
  {
   "cell_type": "code",
   "execution_count": 95,
   "metadata": {},
   "outputs": [
    {
     "data": {
      "text/plain": [
       "array([[[ 92, 105, 107],\n",
       "        [ 91, 104, 106],\n",
       "        [ 90, 102, 104],\n",
       "        ...,\n",
       "        [ 81,  84,  88],\n",
       "        [ 76,  79,  83],\n",
       "        [ 75,  80,  83]],\n",
       "\n",
       "       [[ 91, 104, 106],\n",
       "        [ 90, 103, 105],\n",
       "        [ 90, 102, 104],\n",
       "        ...,\n",
       "        [ 76,  79,  83],\n",
       "        [ 73,  76,  80],\n",
       "        [ 75,  80,  83]],\n",
       "\n",
       "       [[ 90, 103, 105],\n",
       "        [ 89, 102, 104],\n",
       "        [ 90, 102, 104],\n",
       "        ...,\n",
       "        [ 74,  77,  81],\n",
       "        [ 72,  75,  79],\n",
       "        [ 76,  81,  84]],\n",
       "\n",
       "       ...,\n",
       "\n",
       "       [[153, 154, 158],\n",
       "        [152, 153, 157],\n",
       "        [152, 153, 157],\n",
       "        ...,\n",
       "        [ 19,  21,  21],\n",
       "        [ 19,  21,  21],\n",
       "        [ 19,  21,  21]],\n",
       "\n",
       "       [[153, 154, 158],\n",
       "        [152, 153, 157],\n",
       "        [152, 153, 157],\n",
       "        ...,\n",
       "        [ 19,  21,  21],\n",
       "        [ 19,  21,  21],\n",
       "        [ 19,  21,  21]],\n",
       "\n",
       "       [[153, 154, 158],\n",
       "        [152, 153, 157],\n",
       "        [152, 153, 157],\n",
       "        ...,\n",
       "        [ 19,  21,  21],\n",
       "        [ 19,  21,  21],\n",
       "        [ 19,  21,  21]]], dtype=uint8)"
      ]
     },
     "execution_count": 95,
     "metadata": {},
     "output_type": "execute_result"
    }
   ],
   "source": [
    "img2"
   ]
  },
  {
   "cell_type": "code",
   "execution_count": 96,
   "metadata": {},
   "outputs": [],
   "source": [
    "img3=cv2.imread(\"inv3.jpg\")"
   ]
  },
  {
   "cell_type": "code",
   "execution_count": 97,
   "metadata": {},
   "outputs": [
    {
     "data": {
      "text/plain": [
       "array([[[ 54,  56,  67],\n",
       "        [ 39,  41,  52],\n",
       "        [ 63,  65,  76],\n",
       "        ...,\n",
       "        [ 33,  39,  62],\n",
       "        [ 30,  36,  59],\n",
       "        [ 26,  32,  55]],\n",
       "\n",
       "       [[ 47,  49,  60],\n",
       "        [ 48,  50,  61],\n",
       "        [ 72,  74,  85],\n",
       "        ...,\n",
       "        [ 35,  41,  64],\n",
       "        [ 31,  37,  60],\n",
       "        [ 28,  34,  57]],\n",
       "\n",
       "       [[ 41,  43,  54],\n",
       "        [ 58,  60,  71],\n",
       "        [ 79,  81,  92],\n",
       "        ...,\n",
       "        [ 37,  43,  66],\n",
       "        [ 34,  40,  63],\n",
       "        [ 30,  36,  59]],\n",
       "\n",
       "       ...,\n",
       "\n",
       "       [[160, 163, 167],\n",
       "        [144, 147, 151],\n",
       "        [ 75,  78,  82],\n",
       "        ...,\n",
       "        [ 89,  92,  96],\n",
       "        [ 79,  82,  86],\n",
       "        [ 86,  89,  93]],\n",
       "\n",
       "       [[160, 163, 167],\n",
       "        [143, 146, 150],\n",
       "        [ 76,  79,  83],\n",
       "        ...,\n",
       "        [ 94,  97, 101],\n",
       "        [ 82,  85,  89],\n",
       "        [ 83,  86,  90]],\n",
       "\n",
       "       [[160, 163, 167],\n",
       "        [143, 146, 150],\n",
       "        [ 76,  79,  83],\n",
       "        ...,\n",
       "        [102, 105, 109],\n",
       "        [ 88,  91,  95],\n",
       "        [ 81,  84,  88]]], dtype=uint8)"
      ]
     },
     "execution_count": 97,
     "metadata": {},
     "output_type": "execute_result"
    }
   ],
   "source": [
    "img3"
   ]
  }
 ],
 "metadata": {
  "kernelspec": {
   "display_name": "Python 3",
   "language": "python",
   "name": "python3"
  },
  "language_info": {
   "codemirror_mode": {
    "name": "ipython",
    "version": 3
   },
   "file_extension": ".py",
   "mimetype": "text/x-python",
   "name": "python",
   "nbconvert_exporter": "python",
   "pygments_lexer": "ipython3",
   "version": "3.7.4"
  }
 },
 "nbformat": 4,
 "nbformat_minor": 2
}
