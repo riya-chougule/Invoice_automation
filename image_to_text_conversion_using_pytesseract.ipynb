{
 "cells": [
  {
   "cell_type": "markdown",
   "metadata": {},
   "source": [
    "### Description : This notebook contains the image to text conversion using pytesseract.Here we have taken an image of an invoice as an input, it gives the text as an ouput"
   ]
  },
  {
   "cell_type": "markdown",
   "metadata": {},
   "source": [
    "### Author : Riya Chougule"
   ]
  },
  {
   "cell_type": "markdown",
   "metadata": {},
   "source": [
    "### Date : 13/6/2020"
   ]
  },
  {
   "cell_type": "code",
   "execution_count": 6,
   "metadata": {},
   "outputs": [
    {
     "name": "stdout",
     "output_type": "stream",
     "text": [
      "Requirement already satisfied: pillow in c:\\users\\admin\\anaconda3\\lib\\site-packages (6.2.0)\n",
      "Note: you may need to restart the kernel to use updated packages.\n"
     ]
    }
   ],
   "source": [
    " pip install pillow "
   ]
  },
  {
   "cell_type": "code",
   "execution_count": 7,
   "metadata": {},
   "outputs": [
    {
     "name": "stdout",
     "output_type": "stream",
     "text": [
      "Collecting pytesseract\n",
      "  Using cached https://files.pythonhosted.org/packages/1d/d8/521db389ff0aae32035bfda6ed39cb2c2e28521c47015f6431f07460c50a/pytesseract-0.3.4.tar.gz\n",
      "Requirement already satisfied: Pillow in c:\\users\\admin\\anaconda3\\lib\\site-packages (from pytesseract) (6.2.0)\n",
      "Building wheels for collected packages: pytesseract\n",
      "  Building wheel for pytesseract (setup.py): started\n",
      "  Building wheel for pytesseract (setup.py): finished with status 'done'\n",
      "  Created wheel for pytesseract: filename=pytesseract-0.3.4-py2.py3-none-any.whl size=13438 sha256=96b4263790a619ef8b517221cc31599c5f6a48cfe04d3c759e74c030373ede7c\n",
      "  Stored in directory: C:\\Users\\Admin\\AppData\\Local\\pip\\Cache\\wheels\\63\\2a\\a0\\7596d2e0a73cf0aeffd6f6170862c4e73f3763b7827e48691a\n",
      "Successfully built pytesseract\n",
      "Installing collected packages: pytesseract\n",
      "Successfully installed pytesseract-0.3.4\n",
      "Note: you may need to restart the kernel to use updated packages.\n"
     ]
    }
   ],
   "source": [
    " pip install pytesseract"
   ]
  },
  {
   "cell_type": "code",
   "execution_count": 8,
   "metadata": {},
   "outputs": [],
   "source": [
    "import pytesseract as tess"
   ]
  },
  {
   "cell_type": "code",
   "execution_count": 9,
   "metadata": {},
   "outputs": [],
   "source": [
    "from PIL import Image"
   ]
  },
  {
   "cell_type": "code",
   "execution_count": 11,
   "metadata": {},
   "outputs": [],
   "source": [
    "img= Image.open('inv8.jpg')"
   ]
  },
  {
   "cell_type": "code",
   "execution_count": 12,
   "metadata": {},
   "outputs": [],
   "source": [
    "text = tess.image_to_string(img)"
   ]
  },
  {
   "cell_type": "code",
   "execution_count": 13,
   "metadata": {
    "scrolled": true
   },
   "outputs": [
    {
     "name": "stdout",
     "output_type": "stream",
     "text": [
      "SINDHU PHARMA\n",
      "\n",
      "KOLHAPUR ROAD\n",
      "“KAMAL PLAZA, SHOP NO.2, SANGLI\n",
      "Phone: 8308257875\n",
      "\n",
      "DL Nos: MH-SAN-208/352539, MH-SAN-218/352540\n",
      "\n",
      "Food Lic.\n",
      "\n",
      "5\n",
      "\n",
      "GST No “y\n",
      "\n",
      "Btate Code 27\n",
      "\n",
      "Inv. No A-1i0\n",
      "Date 20/02/2020\n",
      "Name YASH MEDICAL & GEN STORES\n",
      "\n",
      "‘Address SPURTI CHOWK , VISHRAMBAG SANGLI\n",
      "\n",
      "City SANGLI\n",
      "\n",
      "D. L nos MH-SAN-20/2036, SAN-21/2036, SAN-20C/1762\n",
      "\n",
      " \n",
      "\n",
      " \n",
      "\n",
      " \n",
      "\n",
      " \n",
      "\n",
      " \n",
      "\n",
      " \n",
      "\n",
      " \n",
      "\n",
      " \n",
      "\n",
      " \n",
      "\n",
      " \n",
      "\n",
      "GST No 278xH1PC9053)1z8 State Code 27\n",
      "Flic. Phone\n",
      "Salesman RUSHT Payment CREDIT Memo CREDIT\n",
      "HSN GST MFG Exp Dis Products Pack Batch Mrp___Qty Rate Amount\n",
      "\n",
      "3004 12 CIPLA 5-22 FLUKA 150-TAB TTAB P190291 12.98 10 6.25 280\n",
      "3004 12 ALKEW 9-21 OMEE 20MG CAP ‘20CAP 19281563 54.50 20 15.80 316,00,\n",
      "3004 12 ALKEM 5-21 OMEE D CAP 1*15 OMDC19126S 132.00 5 15.80 79.00\n",
      "3004 12 CIPLA 5-21 CHESTON COLD TAB 1*10 GS9D87 50.00 5 13.62 68.10\n",
      "1702 18 9-20 GLUCOSE-D ORE 1*100G¥ BO-03 40.00 6 14.40 86.40\n",
      "1702 18 - 9-21 0 GLUCOSE -D-REGULER 1*100 GY FG5 30.00 6 15.60 93.60\n",
      "3004 «12—«CIPLA 5-22 ROKO CAP 1#10C 5879011 20.24 6 8.60 51.60\n",
      "3000 «12—- 1-22 \\VELOSULF POWDER 15GM. 1AI5GM 09 36.00 a 6.80 47.60\n",
      "3004 «12 «= CIPLA 10-22 CIPLADINE POWDER TH10GM 19958 56.00 6 15,00 90,00\n",
      "s —— Gross Amount 894,90\n",
      "GsT% VALUE sGsT_cGst__16st_| —_®(, ie Discount 0.00\n",
      "0% on) . G0) , GST Amount 118.19\n",
      "5% ae Credit Amt 0.00\n",
      "12% 714.90 42,89 42.89 For SINDH) PHARMA Debit Amt 0.00\n",
      "18% 180.00 16.20 16.20 or Round Off 0.03]\n",
      "a 1013.00\n",
      "We Declare Hat Bis Mvoe Shows Wie RCT price Of Whe Goods Gasenbed and that all particulars ate tre and correct: ‘Net Amount\n"
     ]
    }
   ],
   "source": [
    "print(text)"
   ]
  },
  {
   "cell_type": "code",
   "execution_count": null,
   "metadata": {},
   "outputs": [],
   "source": []
  }
 ],
 "metadata": {
  "kernelspec": {
   "display_name": "Python 3",
   "language": "python",
   "name": "python3"
  },
  "language_info": {
   "codemirror_mode": {
    "name": "ipython",
    "version": 3
   },
   "file_extension": ".py",
   "mimetype": "text/x-python",
   "name": "python",
   "nbconvert_exporter": "python",
   "pygments_lexer": "ipython3",
   "version": "3.7.4"
  }
 },
 "nbformat": 4,
 "nbformat_minor": 2
}
